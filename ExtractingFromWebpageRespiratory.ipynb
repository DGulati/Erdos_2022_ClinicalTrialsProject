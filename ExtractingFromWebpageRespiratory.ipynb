{
 "cells": [
  {
   "cell_type": "code",
   "execution_count": 4,
   "id": "5b513113",
   "metadata": {},
   "outputs": [],
   "source": [
    "import requests\n",
    "from bs4 import BeautifulSoup\n",
    "import pandas as pd\n",
    "# table_data.py\n",
    "import urllib3\n",
    "from datetime import datetime"
   ]
  },
  {
   "cell_type": "code",
   "execution_count": 5,
   "id": "7f262171",
   "metadata": {},
   "outputs": [],
   "source": [
    "respiratory_data= pd.read_csv('respiratory_data.csv')\n",
    "http = urllib3.PoolManager()"
   ]
  },
  {
   "cell_type": "code",
   "execution_count": 6,
   "id": "9c3b9904",
   "metadata": {},
   "outputs": [],
   "source": [
    "#NCT Numbers from the clinical trial numbers\n",
    "\n",
    "list_NCT= list(respiratory_data['NCT Number'])\n",
    "URL = 'https://clinicaltrials.gov/ct2/show/record/'\n",
    "\n",
    "final_data= []\n",
    "\n",
    "for NCT in list_NCT:\n",
    "    \n",
    "    #request permission \n",
    "    req= http.request('GET', URL + str(NCT) + '/')\n",
    "    \n",
    "    #extract data\n",
    "    soup = BeautifulSoup(req.data, 'html.parser')\n",
    "    \n",
    "    #find table in webpage with the data \n",
    "    table = soup.find('table', attrs={'class': 'ct-data_table tr-data_table tr-tableStyle'})\n",
    "\n",
    "    #find all table rows\n",
    "    rows = table.find_all('tr')\n",
    "    \n",
    "    #print(rows)\n",
    "    \n",
    "    #extract the variable and value from rows in webpages\n",
    "    data= []\n",
    "    \n",
    "    for i in range(len(rows)):\n",
    "        if rows[i].th is None:\n",
    "            name= 'NA'\n",
    "        else:\n",
    "            name= rows[i].th.text\n",
    "        if rows[i].td is None:\n",
    "            value= 'NA'\n",
    "        else:\n",
    "            value= rows[i].td.text\n",
    "        data.append(tuple([name, value]))\n",
    "    \n",
    "    #create dataframe with all the values\n",
    "    df = pd.DataFrame(data, columns=['Name', 'Value'])\n",
    "    #print(df)\n",
    "    \n",
    "    #extract enrollment, NCT number, and Countries \n",
    "    my_df= df[df['Name'].str.contains('Enrollment') | df['Name'].str.contains('NCT') | df['Name'].str.contains('Listed Location Countries') ].reset_index()\n",
    "    \n",
    "    #get rid of unnecessary strings in the values \n",
    "    my_df['Value']= my_df['Value'].str.rstrip()\n",
    "    \n",
    "    my_df['Value'][2].replace(\"\\xa0\", \"\")\n",
    "    #print(my_df)\n",
    "    \n",
    "    #print(values_df)\n",
    "    #append data we want to our final list\n",
    "    final_data.append(list(my_df['Value']))"
   ]
  },
  {
   "cell_type": "code",
   "execution_count": 7,
   "id": "32676542",
   "metadata": {},
   "outputs": [],
   "source": [
    "#Create data frame with our final list \n",
    "enrollment_countries_respiratory = pd.DataFrame(final_data, columns=['Actual', 'Estimated', 'Countries', 'NCT Number'])"
   ]
  },
  {
   "cell_type": "code",
   "execution_count": 8,
   "id": "4cb6413e",
   "metadata": {},
   "outputs": [],
   "source": [
    "#Create csv file\n",
    "enrollment_countries_respiratory.to_csv('enrollment_countries_respiratory.csv',index=False)"
   ]
  },
  {
   "cell_type": "code",
   "execution_count": 9,
   "id": "0fcc350f",
   "metadata": {},
   "outputs": [],
   "source": [
    "my_df = pd.read_csv('enrollment_countries_respiratory.csv')"
   ]
  },
  {
   "cell_type": "code",
   "execution_count": null,
   "id": "7ca03f29",
   "metadata": {},
   "outputs": [],
   "source": []
  },
  {
   "cell_type": "code",
   "execution_count": null,
   "id": "4fc71879",
   "metadata": {},
   "outputs": [],
   "source": []
  }
 ],
 "metadata": {
  "kernelspec": {
   "display_name": "Python 3 (ipykernel)",
   "language": "python",
   "name": "python3"
  },
  "language_info": {
   "codemirror_mode": {
    "name": "ipython",
    "version": 3
   },
   "file_extension": ".py",
   "mimetype": "text/x-python",
   "name": "python",
   "nbconvert_exporter": "python",
   "pygments_lexer": "ipython3",
   "version": "3.9.12"
  }
 },
 "nbformat": 4,
 "nbformat_minor": 5
}
