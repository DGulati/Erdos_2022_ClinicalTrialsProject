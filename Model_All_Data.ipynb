{
 "cells": [
  {
   "cell_type": "markdown",
   "id": "d1a510b9",
   "metadata": {},
   "source": [
    "# Modeling\n",
    "\n",
    "In this notebook we implement three differents modeling tools for classification problems: \n",
    "\n",
    "   * Logistic Regression\n",
    "   * Random Forests\n",
    "   * Artifical Neural Networks (ANN)\n",
    "    \n",
    "**Goal** : We want to identify if the phase of a clinial trial will be completed or terminated based on different factors like:\n",
    "\n",
    "   * Enrollment fraction: (actual number of people enrolled)/(desired number of people)\n",
    "   * Phase of the trial \n",
    "   * Age type of people enrolled in trial phase\n",
    "   * Genders allowed in trial phase\n",
    "   * Intervention method of the trial phase\n",
    "   * Number of months between start and end of phase\n",
    "   * Actual number of people enrolled\n",
    "   * Estimated or desired number of people per trial\n",
    "    \n",
    "   The goal is to see how well these three different models perform on our data. "
   ]
  },
  {
   "cell_type": "markdown",
   "id": "85149a89",
   "metadata": {},
   "source": [
    "### Import necessary packages"
   ]
  },
  {
   "cell_type": "code",
   "execution_count": 1,
   "id": "cea13dfd",
   "metadata": {},
   "outputs": [],
   "source": [
    "import pandas as pd\n",
    "import numpy as np\n",
    "import seaborn as sns\n",
    "import unicodedata\n",
    "\n",
    "# Import tools needed for visualization\n",
    "from sklearn.tree import export_graphviz\n",
    "import pydot\n",
    "from matplotlib import pyplot as plt\n",
    "\n",
    "\n",
    "from dateutil.parser import parse\n",
    "from datetime import datetime\n",
    "\n",
    "# Packages for modeling \n",
    "from sklearn.model_selection import train_test_split\n",
    "from sklearn.preprocessing import LabelEncoder\n",
    "from sklearn.preprocessing import OrdinalEncoder\n",
    "from sklearn.feature_selection import SelectKBest\n",
    "from sklearn.feature_selection import chi2\n",
    "from sklearn.linear_model import LogisticRegression\n",
    "from sklearn.metrics import accuracy_score\n",
    "from sklearn.metrics import classification_report \n",
    "from sklearn.metrics import accuracy_score, confusion_matrix, classification_report\n",
    "from sklearn.ensemble import RandomForestClassifier\n",
    "import torch\n",
    "import torch.nn as nn\n",
    "from torch.utils.data import Dataset, DataLoader\n",
    "import torch.optim as optim\n",
    "\n",
    "# import feature selection\n",
    "from sklearn.feature_selection import SelectKBest\n",
    "from sklearn.feature_selection import chi2\n",
    "from sklearn.feature_selection import mutual_info_classif\n"
   ]
  },
  {
   "cell_type": "markdown",
   "id": "216333f2",
   "metadata": {},
   "source": [
    "## Load and prepare data"
   ]
  },
  {
   "cell_type": "markdown",
   "id": "d1a22653",
   "metadata": {},
   "source": [
    "We have three different data frames that contain each of our factors as well as classification. The data frames are for clinical trials (obtained from ClinicalTrials.gov) and each data frame consists of 10,000 trials done on respiratory diseases, candiovascular diseases, and cancer. After cleaning and pre-processing the data we have create a final data frame containing all diseases and factors.  "
   ]
  },
  {
   "cell_type": "code",
   "execution_count": 2,
   "id": "a2380faa",
   "metadata": {},
   "outputs": [],
   "source": [
    "cancer_df= pd.read_pickle('cancer_data_cleaned.pkl')"
   ]
  },
  {
   "cell_type": "code",
   "execution_count": 3,
   "id": "ffd6b662",
   "metadata": {},
   "outputs": [],
   "source": [
    "cardiovascular_df= pd.read_pickle('cardiovascular_data_cleaned.pkl')"
   ]
  },
  {
   "cell_type": "code",
   "execution_count": 4,
   "id": "02ad76e8",
   "metadata": {},
   "outputs": [],
   "source": [
    "respiratory_df= pd.read_pickle('respiratory_data_cleaned.pkl')"
   ]
  },
  {
   "cell_type": "code",
   "execution_count": 5,
   "id": "1382e4c9",
   "metadata": {},
   "outputs": [],
   "source": [
    "data = pd.concat([cancer_df,cardiovascular_df, respiratory_df ])"
   ]
  },
  {
   "cell_type": "code",
   "execution_count": 6,
   "id": "53faf940",
   "metadata": {},
   "outputs": [
    {
     "data": {
      "text/html": [
       "<div>\n",
       "<style scoped>\n",
       "    .dataframe tbody tr th:only-of-type {\n",
       "        vertical-align: middle;\n",
       "    }\n",
       "\n",
       "    .dataframe tbody tr th {\n",
       "        vertical-align: top;\n",
       "    }\n",
       "\n",
       "    .dataframe thead th {\n",
       "        text-align: right;\n",
       "    }\n",
       "</style>\n",
       "<table border=\"1\" class=\"dataframe\">\n",
       "  <thead>\n",
       "    <tr style=\"text-align: right;\">\n",
       "      <th></th>\n",
       "      <th>Rank</th>\n",
       "      <th>Title</th>\n",
       "      <th>Status</th>\n",
       "      <th>Study Results</th>\n",
       "      <th>Conditions</th>\n",
       "      <th>Interventions</th>\n",
       "      <th>Outcome Measures</th>\n",
       "      <th>Gender</th>\n",
       "      <th>Age</th>\n",
       "      <th>Phases</th>\n",
       "      <th>...</th>\n",
       "      <th>Locations</th>\n",
       "      <th>URL</th>\n",
       "      <th>Actual</th>\n",
       "      <th>Estimated</th>\n",
       "      <th>Countries</th>\n",
       "      <th>EFraction</th>\n",
       "      <th>Intervention</th>\n",
       "      <th>Age_Type</th>\n",
       "      <th>Disease</th>\n",
       "      <th>Months</th>\n",
       "    </tr>\n",
       "    <tr>\n",
       "      <th>NCT Number</th>\n",
       "      <th></th>\n",
       "      <th></th>\n",
       "      <th></th>\n",
       "      <th></th>\n",
       "      <th></th>\n",
       "      <th></th>\n",
       "      <th></th>\n",
       "      <th></th>\n",
       "      <th></th>\n",
       "      <th></th>\n",
       "      <th></th>\n",
       "      <th></th>\n",
       "      <th></th>\n",
       "      <th></th>\n",
       "      <th></th>\n",
       "      <th></th>\n",
       "      <th></th>\n",
       "      <th></th>\n",
       "      <th></th>\n",
       "      <th></th>\n",
       "      <th></th>\n",
       "    </tr>\n",
       "  </thead>\n",
       "  <tbody>\n",
       "    <tr>\n",
       "      <th>3254875</th>\n",
       "      <td>1</td>\n",
       "      <td>Rehabilitation After Breast Cancer</td>\n",
       "      <td>1</td>\n",
       "      <td>No Results Available</td>\n",
       "      <td>Breast Cancer</td>\n",
       "      <td>Behavioral: Individually tailored nurse naviga...</td>\n",
       "      <td>Distress|Depression|Anxiety|Health related qua...</td>\n",
       "      <td>0.0</td>\n",
       "      <td>18 Years and older   (Adult, Older Adult)</td>\n",
       "      <td>0.0</td>\n",
       "      <td>...</td>\n",
       "      <td>Rigshospitalet, Copenhagen, Denmark</td>\n",
       "      <td>https://ClinicalTrials.gov/show/NCT03254875</td>\n",
       "      <td>309.0</td>\n",
       "      <td>324.0</td>\n",
       "      <td>[Denmark]</td>\n",
       "      <td>0.953704</td>\n",
       "      <td>1</td>\n",
       "      <td>3</td>\n",
       "      <td>cancer</td>\n",
       "      <td>43.0</td>\n",
       "    </tr>\n",
       "    <tr>\n",
       "      <th>3736746</th>\n",
       "      <td>2</td>\n",
       "      <td>Testing Feasibility of Motivational Interviewi...</td>\n",
       "      <td>1</td>\n",
       "      <td>No Results Available</td>\n",
       "      <td>Other Cancer</td>\n",
       "      <td>Behavioral: Motivational Interviewing</td>\n",
       "      <td>Feasibility of Motivational Interviewing inter...</td>\n",
       "      <td>2.0</td>\n",
       "      <td>18 Years and older   (Adult, Older Adult)</td>\n",
       "      <td>0.0</td>\n",
       "      <td>...</td>\n",
       "      <td>Dana Farber Cancer Institute, Boston, Massachu...</td>\n",
       "      <td>https://ClinicalTrials.gov/show/NCT03736746</td>\n",
       "      <td>54.0</td>\n",
       "      <td>54.0</td>\n",
       "      <td>[United States]</td>\n",
       "      <td>1.000000</td>\n",
       "      <td>1</td>\n",
       "      <td>3</td>\n",
       "      <td>cancer</td>\n",
       "      <td>9.0</td>\n",
       "    </tr>\n",
       "    <tr>\n",
       "      <th>3865654</th>\n",
       "      <td>3</td>\n",
       "      <td>Individualizing Surveillance Mammography for O...</td>\n",
       "      <td>1</td>\n",
       "      <td>No Results Available</td>\n",
       "      <td>Breast Cancer</td>\n",
       "      <td>Other: Communication Tool</td>\n",
       "      <td>Rate of change in intentions for mammography i...</td>\n",
       "      <td>0.0</td>\n",
       "      <td>75 Years and older   (Older Adult)</td>\n",
       "      <td>0.0</td>\n",
       "      <td>...</td>\n",
       "      <td>Dana-Farber Cancer Institute, Boston, Massachu...</td>\n",
       "      <td>https://ClinicalTrials.gov/show/NCT03865654</td>\n",
       "      <td>45.0</td>\n",
       "      <td>45.0</td>\n",
       "      <td>[United States]</td>\n",
       "      <td>1.000000</td>\n",
       "      <td>10</td>\n",
       "      <td>4</td>\n",
       "      <td>cancer</td>\n",
       "      <td>26.0</td>\n",
       "    </tr>\n",
       "    <tr>\n",
       "      <th>2078089</th>\n",
       "      <td>4</td>\n",
       "      <td>Oxcarbazepine Plus Morphine in Patients With R...</td>\n",
       "      <td>0</td>\n",
       "      <td>No Results Available</td>\n",
       "      <td>Cancer</td>\n",
       "      <td>Drug: Morphine|Drug: Oxcarbazepine</td>\n",
       "      <td>Number of patients with adverse events as a me...</td>\n",
       "      <td>2.0</td>\n",
       "      <td>18 Years and older   (Adult, Older Adult)</td>\n",
       "      <td>1.0</td>\n",
       "      <td>...</td>\n",
       "      <td>Indiana Univeristy Health Hospital, Indianapol...</td>\n",
       "      <td>https://ClinicalTrials.gov/show/NCT02078089</td>\n",
       "      <td>1.0</td>\n",
       "      <td>12.0</td>\n",
       "      <td>[United States]</td>\n",
       "      <td>0.083333</td>\n",
       "      <td>0</td>\n",
       "      <td>3</td>\n",
       "      <td>cancer</td>\n",
       "      <td>9.0</td>\n",
       "    </tr>\n",
       "    <tr>\n",
       "      <th>3913936</th>\n",
       "      <td>6</td>\n",
       "      <td>Young, Empowered &amp; Strong (YES): The Young Wom...</td>\n",
       "      <td>1</td>\n",
       "      <td>No Results Available</td>\n",
       "      <td>Breast Cancer</td>\n",
       "      <td>Other: YES portal</td>\n",
       "      <td>Frequency of logging into the portal.|Time spe...</td>\n",
       "      <td>0.0</td>\n",
       "      <td>18 Years to 44 Years   (Adult)</td>\n",
       "      <td>0.0</td>\n",
       "      <td>...</td>\n",
       "      <td>Dana Farber Cancer Institute, Boston, Massachu...</td>\n",
       "      <td>https://ClinicalTrials.gov/show/NCT03913936</td>\n",
       "      <td>30.0</td>\n",
       "      <td>30.0</td>\n",
       "      <td>[United States]</td>\n",
       "      <td>1.000000</td>\n",
       "      <td>10</td>\n",
       "      <td>2</td>\n",
       "      <td>cancer</td>\n",
       "      <td>4.0</td>\n",
       "    </tr>\n",
       "  </tbody>\n",
       "</table>\n",
       "<p>5 rows × 23 columns</p>\n",
       "</div>"
      ],
      "text/plain": [
       "            Rank                                              Title  Status  \\\n",
       "NCT Number                                                                    \n",
       "3254875        1                 Rehabilitation After Breast Cancer       1   \n",
       "3736746        2  Testing Feasibility of Motivational Interviewi...       1   \n",
       "3865654        3  Individualizing Surveillance Mammography for O...       1   \n",
       "2078089        4  Oxcarbazepine Plus Morphine in Patients With R...       0   \n",
       "3913936        6  Young, Empowered & Strong (YES): The Young Wom...       1   \n",
       "\n",
       "                   Study Results     Conditions  \\\n",
       "NCT Number                                        \n",
       "3254875     No Results Available  Breast Cancer   \n",
       "3736746     No Results Available   Other Cancer   \n",
       "3865654     No Results Available  Breast Cancer   \n",
       "2078089     No Results Available         Cancer   \n",
       "3913936     No Results Available  Breast Cancer   \n",
       "\n",
       "                                                Interventions  \\\n",
       "NCT Number                                                      \n",
       "3254875     Behavioral: Individually tailored nurse naviga...   \n",
       "3736746                 Behavioral: Motivational Interviewing   \n",
       "3865654                             Other: Communication Tool   \n",
       "2078089                    Drug: Morphine|Drug: Oxcarbazepine   \n",
       "3913936                                     Other: YES portal   \n",
       "\n",
       "                                             Outcome Measures  Gender  \\\n",
       "NCT Number                                                              \n",
       "3254875     Distress|Depression|Anxiety|Health related qua...     0.0   \n",
       "3736746     Feasibility of Motivational Interviewing inter...     2.0   \n",
       "3865654     Rate of change in intentions for mammography i...     0.0   \n",
       "2078089     Number of patients with adverse events as a me...     2.0   \n",
       "3913936     Frequency of logging into the portal.|Time spe...     0.0   \n",
       "\n",
       "                                                  Age  Phases  ...  \\\n",
       "NCT Number                                                     ...   \n",
       "3254875     18 Years and older   (Adult, Older Adult)     0.0  ...   \n",
       "3736746     18 Years and older   (Adult, Older Adult)     0.0  ...   \n",
       "3865654            75 Years and older   (Older Adult)     0.0  ...   \n",
       "2078089     18 Years and older   (Adult, Older Adult)     1.0  ...   \n",
       "3913936                18 Years to 44 Years   (Adult)     0.0  ...   \n",
       "\n",
       "                                                    Locations  \\\n",
       "NCT Number                                                      \n",
       "3254875                   Rigshospitalet, Copenhagen, Denmark   \n",
       "3736746     Dana Farber Cancer Institute, Boston, Massachu...   \n",
       "3865654     Dana-Farber Cancer Institute, Boston, Massachu...   \n",
       "2078089     Indiana Univeristy Health Hospital, Indianapol...   \n",
       "3913936     Dana Farber Cancer Institute, Boston, Massachu...   \n",
       "\n",
       "                                                    URL Actual Estimated  \\\n",
       "NCT Number                                                                 \n",
       "3254875     https://ClinicalTrials.gov/show/NCT03254875  309.0     324.0   \n",
       "3736746     https://ClinicalTrials.gov/show/NCT03736746   54.0      54.0   \n",
       "3865654     https://ClinicalTrials.gov/show/NCT03865654   45.0      45.0   \n",
       "2078089     https://ClinicalTrials.gov/show/NCT02078089    1.0      12.0   \n",
       "3913936     https://ClinicalTrials.gov/show/NCT03913936   30.0      30.0   \n",
       "\n",
       "                  Countries  EFraction  Intervention Age_Type  Disease  Months  \n",
       "NCT Number                                                                      \n",
       "3254875           [Denmark]   0.953704             1        3   cancer    43.0  \n",
       "3736746     [United States]   1.000000             1        3   cancer     9.0  \n",
       "3865654     [United States]   1.000000            10        4   cancer    26.0  \n",
       "2078089     [United States]   0.083333             0        3   cancer     9.0  \n",
       "3913936     [United States]   1.000000            10        2   cancer     4.0  \n",
       "\n",
       "[5 rows x 23 columns]"
      ]
     },
     "execution_count": 6,
     "metadata": {},
     "output_type": "execute_result"
    }
   ],
   "source": [
    "data.head()"
   ]
  },
  {
   "cell_type": "code",
   "execution_count": 7,
   "id": "cdaf3fb9",
   "metadata": {},
   "outputs": [
    {
     "name": "stdout",
     "output_type": "stream",
     "text": [
      "<class 'pandas.core.frame.DataFrame'>\n",
      "Int64Index: 24620 entries, 3254875 to 4617015\n",
      "Data columns (total 23 columns):\n",
      " #   Column            Non-Null Count  Dtype    \n",
      "---  ------            --------------  -----    \n",
      " 0   Rank              24620 non-null  int64    \n",
      " 1   Title             24620 non-null  object   \n",
      " 2   Status            24620 non-null  int64    \n",
      " 3   Study Results     24620 non-null  object   \n",
      " 4   Conditions        24620 non-null  object   \n",
      " 5   Interventions     24620 non-null  object   \n",
      " 6   Outcome Measures  24620 non-null  object   \n",
      " 7   Gender            24620 non-null  float64  \n",
      " 8   Age               24620 non-null  object   \n",
      " 9   Phases            24620 non-null  float64  \n",
      " 10  Enrollment        24620 non-null  float64  \n",
      " 11  Start Date        24620 non-null  period[M]\n",
      " 12  Completion Date   24620 non-null  period[M]\n",
      " 13  Locations         24620 non-null  object   \n",
      " 14  URL               24620 non-null  object   \n",
      " 15  Actual            24620 non-null  float64  \n",
      " 16  Estimated         24620 non-null  float64  \n",
      " 17  Countries         24620 non-null  object   \n",
      " 18  EFraction         24620 non-null  float64  \n",
      " 19  Intervention      24620 non-null  int64    \n",
      " 20  Age_Type          24620 non-null  int64    \n",
      " 21  Disease           24620 non-null  object   \n",
      " 22  Months            24620 non-null  float64  \n",
      "dtypes: float64(7), int64(4), object(10), period[M](2)\n",
      "memory usage: 4.5+ MB\n"
     ]
    }
   ],
   "source": [
    "data.info()"
   ]
  },
  {
   "cell_type": "code",
   "execution_count": 8,
   "id": "75d6bcef",
   "metadata": {
    "scrolled": true
   },
   "outputs": [
    {
     "data": {
      "image/png": "[encoded data removed]",
      "text/plain": [
       "<Figure size 432x288 with 1 Axes>"
      ]
     },
     "metadata": {
      "needs_background": "light"
     },
     "output_type": "display_data"
    }
   ],
   "source": [
    "sns.countplot(x = 'Status', data=data).set(title= \"Count plot of output variable\")\n",
    "plt.xticks([0,1],['Terminated','Completed'])\n",
    "plt.savefig('count_trials.png')"
   ]
  },
  {
   "cell_type": "markdown",
   "id": "f9220076",
   "metadata": {},
   "source": [
    "We can see that the number of trials that were completed far outweighs the number of trials that were terminated. This is important to remember."
   ]
  },
  {
   "cell_type": "code",
   "execution_count": 9,
   "id": "24d4cd3a",
   "metadata": {},
   "outputs": [
    {
     "data": {
      "text/plain": [
       "<AxesSubplot:xlabel='Status', ylabel='count'>"
      ]
     },
     "execution_count": 9,
     "metadata": {},
     "output_type": "execute_result"
    },
    {
     "data": {
      "image/png": "[encoded data removed]",
      "text/plain": [
       "<Figure size 432x288 with 1 Axes>"
      ]
     },
     "metadata": {
      "needs_background": "light"
     },
     "output_type": "display_data"
    }
   ],
   "source": [
    "sns.countplot(x='Status', hue='Intervention', data=data)"
   ]
  },
  {
   "cell_type": "code",
   "execution_count": 10,
   "id": "4acb4cd5",
   "metadata": {},
   "outputs": [
    {
     "data": {
      "text/plain": [
       "<AxesSubplot:xlabel='Status', ylabel='count'>"
      ]
     },
     "execution_count": 10,
     "metadata": {},
     "output_type": "execute_result"
    },
    {
     "data": {
      "image/png": "[encoded data removed]",
      "text/plain": [
       "<Figure size 432x288 with 1 Axes>"
      ]
     },
     "metadata": {
      "needs_background": "light"
     },
     "output_type": "display_data"
    }
   ],
   "source": [
    "sns.countplot(x='Status', hue='Phases', data=data)"
   ]
  },
  {
   "cell_type": "code",
   "execution_count": 11,
   "id": "943eb739",
   "metadata": {},
   "outputs": [
    {
     "data": {
      "text/plain": [
       "<AxesSubplot:xlabel='Status', ylabel='count'>"
      ]
     },
     "execution_count": 11,
     "metadata": {},
     "output_type": "execute_result"
    },
    {
     "data": {
      "image/png": "[encoded data removed]",
      "text/plain": [
       "<Figure size 432x288 with 1 Axes>"
      ]
     },
     "metadata": {
      "needs_background": "light"
     },
     "output_type": "display_data"
    }
   ],
   "source": [
    "sns.countplot(x='Status', hue='Age_Type', data=data)"
   ]
  },
  {
   "cell_type": "code",
   "execution_count": 12,
   "id": "0c0ceca4",
   "metadata": {},
   "outputs": [
    {
     "data": {
      "text/plain": [
       "<AxesSubplot:xlabel='Status', ylabel='count'>"
      ]
     },
     "execution_count": 12,
     "metadata": {},
     "output_type": "execute_result"
    },
    {
     "data": {
      "image/png": "[encoded data removed]",
      "text/plain": [
       "<Figure size 432x288 with 1 Axes>"
      ]
     },
     "metadata": {
      "needs_background": "light"
     },
     "output_type": "display_data"
    }
   ],
   "source": [
    "sns.countplot(x='Status', hue='Gender', data=data)"
   ]
  },
  {
   "cell_type": "markdown",
   "id": "5222d620",
   "metadata": {},
   "source": [
    "## Logistic Regression Models\n",
    "\n",
    "The first model we will implement is logistic regression. This is the classic way to perform binary classification. In simple terms, it's a generalized model that predicts the probability that an event will occur. Specifically, Logistic Regression uses regular linear regression to model the `logit` function. "
   ]
  },
  {
   "cell_type": "markdown",
   "id": "55f381c0",
   "metadata": {},
   "source": [
    "### 1. Model Built Using Single Feature = EFraction"
   ]
  },
  {
   "cell_type": "code",
   "execution_count": 13,
   "id": "9de8d9fb",
   "metadata": {},
   "outputs": [],
   "source": [
    "# Split into input and output data\n",
    "# adjust data into array\n",
    "X = data['EFraction'].to_numpy()\n",
    "y = data['Status'].to_numpy()"
   ]
  },
  {
   "cell_type": "code",
   "execution_count": 14,
   "id": "0e2531e1",
   "metadata": {},
   "outputs": [
    {
     "data": {
      "text/plain": [
       "(array([0.9537037 , 1.        , 1.        , ..., 1.        , 0.02631579,\n",
       "        1.        ]),\n",
       " array([1, 1, 1, ..., 1, 0, 1]))"
      ]
     },
     "execution_count": 14,
     "metadata": {},
     "output_type": "execute_result"
    }
   ],
   "source": [
    "# Check model data\n",
    "X, y"
   ]
  },
  {
   "cell_type": "code",
   "execution_count": 15,
   "id": "c1fb1701",
   "metadata": {},
   "outputs": [
    {
     "name": "stdout",
     "output_type": "stream",
     "text": [
      "Train (16495,) (16495,)\n",
      "Test (8125,) (8125,)\n"
     ]
    }
   ],
   "source": [
    "# make a stratified train/test split\n",
    "X_train, X_test, y_train, y_test = train_test_split(X, y,\n",
    "                                                       shuffle=True,\n",
    "                                                       random_state=1,\n",
    "                                                       test_size=.33,\n",
    "                                                       stratify=y)\n",
    "print('Train', X_train.shape, y_train.shape)\n",
    "print('Test', X_test.shape, y_test.shape)"
   ]
  },
  {
   "cell_type": "code",
   "execution_count": 16,
   "id": "a831d9ba",
   "metadata": {},
   "outputs": [
    {
     "data": {
      "image/png": "[encoded data removed]",
      "text/plain": [
       "<Figure size 720x576 with 1 Axes>"
      ]
     },
     "metadata": {
      "needs_background": "light"
     },
     "output_type": "display_data"
    },
    {
     "data": {
      "text/plain": [
       "<Figure size 432x288 with 0 Axes>"
      ]
     },
     "metadata": {},
     "output_type": "display_data"
    }
   ],
   "source": [
    "## make model object\n",
    "log_reg = LogisticRegression()\n",
    "\n",
    "## fit the model\n",
    "log_reg.fit(X_train.reshape(-1,1), y_train)\n",
    "\n",
    "\n",
    "# Plot figure \n",
    "plt.figure(figsize = (10,8))\n",
    "\n",
    "# With classifications we have a new method\n",
    "# predict_proba which returns the probability\n",
    "# that an observation is a certain class.\n",
    "plt.plot(np.linspace(0,1,1000),\n",
    "            log_reg.predict_proba(np.linspace(0,1,1000).reshape(-1,1))[:,1],\n",
    "            'r--',linewidth=2.5,label = \"Model Fit\")\n",
    "plt.scatter(X_train,y_train,label = 'Training Data',alpha=.7)\n",
    "plt.legend(fontsize = 14,loc = 'best')\n",
    "plt.xlabel(\"Feature-EFraction\",fontsize = 20)\n",
    "plt.ylabel(\"Status: {0=Terminated, 1=Completed}\",fontsize=20) \n",
    "plt.xlim([-0.05,2.05])\n",
    "plt.title('Logistic Regression Model- Status vs. EFraction', fontsize=20)\n",
    "\n",
    "plt.show()\n",
    "\n",
    "## save fig\n",
    "plt.savefig(\"Logistic_Regressin_EF.png\", dpi=200)"
   ]
  },
  {
   "cell_type": "code",
   "execution_count": 17,
   "id": "dade9bc3",
   "metadata": {},
   "outputs": [
    {
     "name": "stdout",
     "output_type": "stream",
     "text": [
      "The importance of EFraction for the single feature logistic regression model is 4.0858\n"
     ]
    }
   ],
   "source": [
    "print('The importance of EFraction for the single feature logistic regression model is %.4f' % (log_reg.coef_[0]))"
   ]
  },
  {
   "cell_type": "markdown",
   "id": "0c8bc3ad",
   "metadata": {},
   "source": [
    "### Model Evaluation"
   ]
  },
  {
   "cell_type": "code",
   "execution_count": 18,
   "id": "be0968f2",
   "metadata": {},
   "outputs": [
    {
     "name": "stdout",
     "output_type": "stream",
     "text": [
      "              precision    recall  f1-score   support\n",
      "\n",
      "           0       0.68      0.45      0.54      1145\n",
      "           1       0.91      0.97      0.94      6980\n",
      "\n",
      "    accuracy                           0.89      8125\n",
      "   macro avg       0.80      0.71      0.74      8125\n",
      "weighted avg       0.88      0.89      0.88      8125\n",
      "\n"
     ]
    }
   ],
   "source": [
    "predictions_efraction= log_reg.predict(X_test.reshape(-1,1))\n",
    "print(classification_report(y_test, predictions_efraction))"
   ]
  },
  {
   "cell_type": "code",
   "execution_count": 19,
   "id": "6f544b7b",
   "metadata": {},
   "outputs": [
    {
     "data": {
      "image/png": "[encoded data removed]",
      "text/plain": [
       "<Figure size 1152x504 with 2 Axes>"
      ]
     },
     "metadata": {
      "needs_background": "light"
     },
     "output_type": "display_data"
    }
   ],
   "source": [
    "# Get and reshape confusion matrix data\n",
    "matrix = confusion_matrix(y_test, predictions_efraction)\n",
    "matrix = matrix.astype('float') / matrix.sum(axis=1)[:, np.newaxis]\n",
    "\n",
    "# Build the plot\n",
    "plt.figure(figsize=(16,7))\n",
    "sns.set(font_scale=1.4)\n",
    "sns.heatmap(matrix, annot=True, annot_kws={'size':10},\n",
    "            cmap=plt.cm.Reds, linewidths=0.2)\n",
    "\n",
    "# Add labels to the plot\n",
    "class_names = ['Terminated', 'Completed']\n",
    "tick_marks = np.arange(len(class_names))\n",
    "tick_marks2 = tick_marks + 0.5\n",
    "plt.xticks(tick_marks, class_names, rotation=25)\n",
    "plt.yticks(tick_marks2, class_names, rotation=0)\n",
    "plt.xlabel('Predicted label')\n",
    "plt.ylabel('True label')\n",
    "plt.title('Confusion Matrix for Logistic Model 1')\n",
    "plt.show()"
   ]
  },
  {
   "cell_type": "markdown",
   "id": "c47aaf5c",
   "metadata": {},
   "source": [
    "### 2. Model Built Using All Features Of Interest (Numerical Representation)"
   ]
  },
  {
   "cell_type": "markdown",
   "id": "83f4fbf1",
   "metadata": {},
   "source": [
    "### Train, Test, Split"
   ]
  },
  {
   "cell_type": "code",
   "execution_count": 20,
   "id": "eceeb57d",
   "metadata": {},
   "outputs": [],
   "source": [
    "X= data[['EFraction','Intervention', 'Months' , 'Age_Type', 'Gender' , 'Phases', 'Actual', 'Estimated' ]]"
   ]
  },
  {
   "cell_type": "code",
   "execution_count": 21,
   "id": "68958758",
   "metadata": {},
   "outputs": [],
   "source": [
    "y=data['Status']"
   ]
  },
  {
   "cell_type": "code",
   "execution_count": 22,
   "id": "950e7eb8",
   "metadata": {},
   "outputs": [],
   "source": [
    "X_train, X_test, y_train, y_test = train_test_split(X, y, test_size=0.33, random_state=1)"
   ]
  },
  {
   "cell_type": "code",
   "execution_count": 23,
   "id": "9fca63fd",
   "metadata": {},
   "outputs": [
    {
     "name": "stdout",
     "output_type": "stream",
     "text": [
      "Train (16495, 8) (16495,)\n",
      "Test (8125, 8) (8125,)\n"
     ]
    }
   ],
   "source": [
    "print('Train', X_train.shape, y_train.shape)\n",
    "print('Test', X_test.shape, y_test.shape)"
   ]
  },
  {
   "cell_type": "markdown",
   "id": "a4e4fca0",
   "metadata": {},
   "source": [
    "### Building the Model"
   ]
  },
  {
   "cell_type": "code",
   "execution_count": 24,
   "id": "9a0d2c42",
   "metadata": {},
   "outputs": [
    {
     "name": "stderr",
     "output_type": "stream",
     "text": [
      "/opt/anaconda3/lib/python3.8/site-packages/sklearn/linear_model/_logistic.py:814: ConvergenceWarning: lbfgs failed to converge (status=1):\n",
      "STOP: TOTAL NO. of ITERATIONS REACHED LIMIT.\n",
      "\n",
      "Increase the number of iterations (max_iter) or scale the data as shown in:\n",
      "    https://scikit-learn.org/stable/modules/preprocessing.html\n",
      "Please also refer to the documentation for alternative solver options:\n",
      "    https://scikit-learn.org/stable/modules/linear_model.html#logistic-regression\n",
      "  n_iter_i = _check_optimize_result(\n"
     ]
    }
   ],
   "source": [
    "logmodel= LogisticRegression(class_weight='balanced')\n",
    "logmodel.fit(X_train, y_train)\n",
    "predictions_log= logmodel.predict(X_test)"
   ]
  },
  {
   "cell_type": "markdown",
   "id": "f84ce723",
   "metadata": {},
   "source": [
    "### Model Evaluation\n",
    "\n",
    "We can evaluate the model's performance on our testing dataset using a Confusion Matrix and looking at the model in terms of Recall, Precision, Sensitivity (f1-score), and Support."
   ]
  },
  {
   "cell_type": "code",
   "execution_count": 25,
   "id": "2679a263",
   "metadata": {},
   "outputs": [
    {
     "data": {
      "image/png": "[encoded data removed]",
      "text/plain": [
       "<Figure size 1152x504 with 2 Axes>"
      ]
     },
     "metadata": {},
     "output_type": "display_data"
    }
   ],
   "source": [
    "# Get and reshape confusion matrix data\n",
    "matrix = confusion_matrix(y_test, predictions_log)\n",
    "matrix = matrix.astype('float') / matrix.sum(axis=1)[:, np.newaxis]\n",
    "\n",
    "# Build the plot\n",
    "plt.figure(figsize=(16,7))\n",
    "sns.set(font_scale=1.4)\n",
    "sns.heatmap(matrix, annot=True, annot_kws={'size':10},\n",
    "            cmap=plt.cm.Reds, linewidths=0.2)\n",
    "\n",
    "# Add labels to the plot\n",
    "class_names = ['Terminated', 'Completed']\n",
    "tick_marks = np.arange(len(class_names))\n",
    "tick_marks2 = tick_marks + 0.5\n",
    "plt.xticks(tick_marks, class_names, rotation=25)\n",
    "plt.yticks(tick_marks2, class_names, rotation=0)\n",
    "plt.xlabel('Predicted label')\n",
    "plt.ylabel('True label')\n",
    "plt.title('Confusion Matrix for Logistic Model 2')\n",
    "plt.show()"
   ]
  },
  {
   "cell_type": "code",
   "execution_count": 26,
   "id": "6f88f4ae",
   "metadata": {},
   "outputs": [
    {
     "name": "stdout",
     "output_type": "stream",
     "text": [
      "              precision    recall  f1-score   support\n",
      "\n",
      "           0       0.22      0.80      0.35      1133\n",
      "           1       0.94      0.55      0.70      6992\n",
      "\n",
      "    accuracy                           0.59      8125\n",
      "   macro avg       0.58      0.68      0.52      8125\n",
      "weighted avg       0.84      0.59      0.65      8125\n",
      "\n"
     ]
    }
   ],
   "source": [
    "print(classification_report(y_test, predictions_log))"
   ]
  },
  {
   "cell_type": "markdown",
   "id": "6d54de35",
   "metadata": {},
   "source": [
    "This model has an accuracy score of 82% on the test data. This seems pretty impressive, but remember that accuracy is not a great measure of classifier performance when the classes are imbalanced. We can see that our model has a 96% precision rate for trial completion and a 43% precision rate for termination. This is no doubt a result of our data imbalance. "
   ]
  },
  {
   "cell_type": "markdown",
   "id": "200ad4ac",
   "metadata": {},
   "source": [
    "### Feature Importance \n",
    "\n",
    "To better understand the performance of our model, we can investigate each individual feature. Scores marked with a zero coefficient, or very near zero coefficient, indicate that the model found those features unimportant and essentially removed them from the model. Positive scores indicate a feature that predicts class 1 (Completed). Negative scores indicate a feature that predicts class 2 (Terminated)."
   ]
  },
  {
   "cell_type": "code",
   "execution_count": 27,
   "id": "fe25078e",
   "metadata": {},
   "outputs": [
    {
     "data": {
      "text/plain": [
       "array([ 1.17388475e+00,  6.65464825e-02,  5.29392585e-03, -3.06159697e-01,\n",
       "       -5.69234885e-02, -3.51382646e-01, -3.86044252e-04,  1.07141338e-03])"
      ]
     },
     "execution_count": 27,
     "metadata": {},
     "output_type": "execute_result"
    }
   ],
   "source": [
    "importance= logmodel.coef_.flatten()\n",
    "importance"
   ]
  },
  {
   "cell_type": "code",
   "execution_count": 28,
   "id": "1513c9f7",
   "metadata": {},
   "outputs": [
    {
     "data": {
      "image/png": "[encoded data removed]",
      "text/plain": [
       "<Figure size 432x288 with 1 Axes>"
      ]
     },
     "metadata": {},
     "output_type": "display_data"
    }
   ],
   "source": [
    "plt.style.use('fivethirtyeight')\n",
    "# list of x locations for plotting\n",
    "x_values = list(range(len(importance)))\n",
    "# Make a bar chart\n",
    "plt.bar(x_values, importance, orientation = 'vertical', color=\"r\")\n",
    "# Tick labels for x axis\n",
    "plt.xticks(x_values,list(X.columns) , rotation='vertical')\n",
    "plt.ylim(-1, 3.5)\n",
    "# Axis labels and title\n",
    "plt.ylabel('Importance'); plt.xlabel('Variable'); plt.title('Variable Importances');"
   ]
  },
  {
   "cell_type": "markdown",
   "id": "b5b6787a",
   "metadata": {},
   "source": [
    "We can see that the enrollment fraction is very important for predicting completion of a trial. Months, age type, phases, gender, intervention have been marked as unimportant by the model."
   ]
  },
  {
   "cell_type": "markdown",
   "id": "3d162ae7",
   "metadata": {},
   "source": [
    "### 3. Model Built Using Chi-Squared Features\n",
    "\n",
    "Pearson’s chi-squared statistical hypothesis test is an example of a test for independence between categorical variables.\n",
    "The results of this test can be used for feature selection, where those features that are independent of the target variable can be removed from the dataset."
   ]
  },
  {
   "cell_type": "code",
   "execution_count": 29,
   "id": "da3ce482",
   "metadata": {},
   "outputs": [],
   "source": [
    "# Split into input and output data\n",
    "# adjust data into array\n",
    "X = data.copy()\n",
    "X = data.filter(['EFraction','Intervention', 'Months' , 'Age_Type', 'Gender' , 'Phases', 'Actual', 'Estimated'], axis=1).to_numpy()\n",
    "y = data['Status'].to_numpy()"
   ]
  },
  {
   "cell_type": "code",
   "execution_count": 30,
   "id": "87d34a3f",
   "metadata": {},
   "outputs": [],
   "source": [
    "X_train, X_test, y_train, y_test = train_test_split(X, y,\n",
    "                                                       shuffle=True,\n",
    "                                                       random_state=1,\n",
    "                                                       test_size=.33,\n",
    "                                                       stratify=y)"
   ]
  },
  {
   "cell_type": "code",
   "execution_count": 31,
   "id": "c0248082",
   "metadata": {},
   "outputs": [],
   "source": [
    "# feature selection\n",
    "fs = SelectKBest(score_func=chi2, k='all')\n",
    "fs.fit(X_train, y_train)\n",
    "X_train_fs = fs.transform(X_train)\n",
    "X_test_fs = fs.transform(X_test)"
   ]
  },
  {
   "cell_type": "code",
   "execution_count": 32,
   "id": "5747efdd",
   "metadata": {},
   "outputs": [
    {
     "name": "stdout",
     "output_type": "stream",
     "text": [
      "Feature 0: 817.304661\n",
      "Feature 1: 244.751107\n",
      "Feature 2: 22.896244\n",
      "Feature 3: 2.272054\n",
      "Feature 4: 3.367172\n",
      "Feature 5: 63.894569\n",
      "Feature 6: 1044428.993312\n",
      "Feature 7: 881870.533973\n"
     ]
    },
    {
     "data": {
      "image/png": "[encoded data removed]",
      "text/plain": [
       "<Figure size 432x288 with 1 Axes>"
      ]
     },
     "metadata": {},
     "output_type": "display_data"
    }
   ],
   "source": [
    "for i in range(len(fs.scores_)):\n",
    "\tprint('Feature %d: %f' % (i, fs.scores_[i]))\n",
    "# plot the scores\n",
    "plt.bar([i for i in range(len(fs.scores_))], fs.scores_)\n",
    "plt.show()"
   ]
  },
  {
   "cell_type": "code",
   "execution_count": 33,
   "id": "438dcdbb",
   "metadata": {},
   "outputs": [
    {
     "name": "stdout",
     "output_type": "stream",
     "text": [
      "Accuracy of Chi-Squared Features: 86.9908\n"
     ]
    },
    {
     "name": "stderr",
     "output_type": "stream",
     "text": [
      "/opt/anaconda3/lib/python3.8/site-packages/sklearn/linear_model/_logistic.py:814: ConvergenceWarning: lbfgs failed to converge (status=1):\n",
      "STOP: TOTAL NO. of ITERATIONS REACHED LIMIT.\n",
      "\n",
      "Increase the number of iterations (max_iter) or scale the data as shown in:\n",
      "    https://scikit-learn.org/stable/modules/preprocessing.html\n",
      "Please also refer to the documentation for alternative solver options:\n",
      "    https://scikit-learn.org/stable/modules/linear_model.html#logistic-regression\n",
      "  n_iter_i = _check_optimize_result(\n"
     ]
    }
   ],
   "source": [
    "# fit the model\n",
    "model = LogisticRegression(solver='lbfgs')\n",
    "model.fit(X_train_fs, y_train)\n",
    "\n",
    "# evaluate the model\n",
    "yhat = model.predict(X_test_fs)\n",
    "\n",
    "# evaluate predictions\n",
    "accuracy = accuracy_score(y_test, yhat)\n",
    "print('Accuracy of Chi-Squared Features: %.4f' % (accuracy*100))"
   ]
  },
  {
   "cell_type": "code",
   "execution_count": 34,
   "id": "b9d6fbbd",
   "metadata": {},
   "outputs": [
    {
     "name": "stdout",
     "output_type": "stream",
     "text": [
      "              precision    recall  f1-score   support\n",
      "\n",
      "           0       1.00      1.00      1.00       280\n",
      "           1       1.00      1.00      1.00      7845\n",
      "\n",
      "    accuracy                           1.00      8125\n",
      "   macro avg       1.00      1.00      1.00      8125\n",
      "weighted avg       1.00      1.00      1.00      8125\n",
      "\n"
     ]
    }
   ],
   "source": [
    "predictions_chi= model.predict(X_test_fs)\n",
    "print(classification_report(yhat, predictions_chi))"
   ]
  },
  {
   "cell_type": "code",
   "execution_count": 35,
   "id": "d2395df2",
   "metadata": {},
   "outputs": [
    {
     "data": {
      "image/png": "[encoded data removed]",
      "text/plain": [
       "<Figure size 1152x504 with 2 Axes>"
      ]
     },
     "metadata": {},
     "output_type": "display_data"
    }
   ],
   "source": [
    "# Get and reshape confusion matrix data\n",
    "matrix = confusion_matrix(y_test, predictions_chi)\n",
    "matrix = matrix.astype('float') / matrix.sum(axis=1)[:, np.newaxis]\n",
    "\n",
    "# Build the plot\n",
    "plt.figure(figsize=(16,7))\n",
    "sns.set(font_scale=1.4)\n",
    "sns.heatmap(matrix, annot=True, annot_kws={'size':10},\n",
    "            cmap=plt.cm.Reds, linewidths=0.2)\n",
    "\n",
    "# Add labels to the plot\n",
    "class_names = ['Terminated', 'Completed']\n",
    "tick_marks = np.arange(len(class_names))\n",
    "tick_marks2 = tick_marks + 0.5\n",
    "plt.xticks(tick_marks, class_names, rotation=25)\n",
    "plt.yticks(tick_marks2, class_names, rotation=0)\n",
    "plt.xlabel('Predicted label')\n",
    "plt.ylabel('True label')\n",
    "plt.title('Confusion Matrix for Logistic Model 3')\n",
    "plt.show()"
   ]
  },
  {
   "cell_type": "markdown",
   "id": "6bd33c4a",
   "metadata": {},
   "source": [
    "### 4. Model Built Using Mutual Information Features\n",
    "\n",
    "Mutual information (MI) between two random variables is a non-negative value, which measures the dependency between the variables. It is equal to zero if and only if two random variables are independent, and higher values mean higher dependency."
   ]
  },
  {
   "cell_type": "code",
   "execution_count": 36,
   "id": "fff83581",
   "metadata": {},
   "outputs": [],
   "source": [
    "# Split into input and output data\n",
    "# adjust data into array\n",
    "X = data.copy()\n",
    "X = data.filter(['EFraction','Intervention', 'Months' , 'Age_Type', 'Gender' , 'Phases', 'Actual', 'Estimated'], axis=1).to_numpy()\n",
    "# add X data: Countries and Month\n",
    "y = data['Status'].to_numpy()"
   ]
  },
  {
   "cell_type": "code",
   "execution_count": 37,
   "id": "f14f020c",
   "metadata": {},
   "outputs": [],
   "source": [
    "X_train, X_test, y_train, y_test = train_test_split(X, y,\n",
    "                                                       shuffle=True,\n",
    "                                                       random_state=1,\n",
    "                                                       test_size=.33,\n",
    "                                                       stratify=y)"
   ]
  },
  {
   "cell_type": "code",
   "execution_count": 38,
   "id": "027f5fd2",
   "metadata": {},
   "outputs": [],
   "source": [
    "# feature selection function\n",
    "fs_m = SelectKBest(score_func=mutual_info_classif, k=2)\n",
    "fs_m.fit(X_train, y_train)\n",
    "X_train_fs_m = fs_m.transform(X_train)\n",
    "X_test_fs_m = fs_m.transform(X_test)"
   ]
  },
  {
   "cell_type": "code",
   "execution_count": 39,
   "id": "b86b05a8",
   "metadata": {},
   "outputs": [
    {
     "name": "stdout",
     "output_type": "stream",
     "text": [
      "Feature 0: 0.132296\n",
      "Feature 1: 0.012713\n",
      "Feature 2: 0.006571\n",
      "Feature 3: 0.011523\n",
      "Feature 4: 0.000782\n",
      "Feature 5: 0.002096\n",
      "Feature 6: 0.077815\n",
      "Feature 7: 0.002781\n"
     ]
    },
    {
     "data": {
      "image/png": "[encoded data removed]",
      "text/plain": [
       "<Figure size 432x288 with 1 Axes>"
      ]
     },
     "metadata": {},
     "output_type": "display_data"
    }
   ],
   "source": [
    "# what are scores for the features\n",
    "for i in range(len(fs_m.scores_)):\n",
    "\tprint('Feature %d: %f' % (i, fs_m.scores_[i]))\n",
    "# plot the scores\n",
    "plt.bar([i for i in range(len(fs_m.scores_))], fs_m.scores_)\n",
    "plt.show()"
   ]
  },
  {
   "cell_type": "code",
   "execution_count": 40,
   "id": "e1e88b05",
   "metadata": {},
   "outputs": [
    {
     "name": "stdout",
     "output_type": "stream",
     "text": [
      "Accuracy of Mutual Features: 89.3292\n"
     ]
    }
   ],
   "source": [
    "# fit the model\n",
    "model = LogisticRegression(solver='lbfgs')\n",
    "model.fit(X_train_fs_m, y_train)\n",
    "\n",
    "# evaluate the model\n",
    "yhat = model.predict(X_test_fs_m)\n",
    "\n",
    "# evaluate predictions\n",
    "accuracy = accuracy_score(y_test, yhat)\n",
    "print('Accuracy of Mutual Features: %.4f' % (accuracy*100))"
   ]
  },
  {
   "cell_type": "code",
   "execution_count": 41,
   "id": "f83eabec",
   "metadata": {},
   "outputs": [
    {
     "name": "stdout",
     "output_type": "stream",
     "text": [
      "              precision    recall  f1-score   support\n",
      "\n",
      "           0       1.00      1.00      1.00       758\n",
      "           1       1.00      1.00      1.00      7367\n",
      "\n",
      "    accuracy                           1.00      8125\n",
      "   macro avg       1.00      1.00      1.00      8125\n",
      "weighted avg       1.00      1.00      1.00      8125\n",
      "\n"
     ]
    }
   ],
   "source": [
    "predictions_mutual= model.predict(X_test_fs_m)\n",
    "print(classification_report(yhat, predictions_mutual))"
   ]
  },
  {
   "cell_type": "code",
   "execution_count": 42,
   "id": "cce320d8",
   "metadata": {},
   "outputs": [
    {
     "data": {
      "image/png": "[encoded data removed]",
      "text/plain": [
       "<Figure size 1152x504 with 2 Axes>"
      ]
     },
     "metadata": {},
     "output_type": "display_data"
    }
   ],
   "source": [
    "# Get and reshape confusion matrix data\n",
    "matrix = confusion_matrix(y_test, predictions_mutual)\n",
    "matrix = matrix.astype('float') / matrix.sum(axis=1)[:, np.newaxis]\n",
    "\n",
    "# Build the plot\n",
    "plt.figure(figsize=(16,7))\n",
    "sns.set(font_scale=1.4)\n",
    "sns.heatmap(matrix, annot=True, annot_kws={'size':10},\n",
    "            cmap=plt.cm.Reds, linewidths=0.2)\n",
    "\n",
    "# Add labels to the plot\n",
    "class_names = ['Terminated', 'Completed']\n",
    "tick_marks = np.arange(len(class_names))\n",
    "tick_marks2 = tick_marks + 0.5\n",
    "plt.xticks(tick_marks, class_names, rotation=25)\n",
    "plt.yticks(tick_marks2, class_names, rotation=0)\n",
    "plt.xlabel('Predicted label')\n",
    "plt.ylabel('True label')\n",
    "plt.title('Confusion Matrix for Logistic Model 4')\n",
    "plt.show()"
   ]
  },
  {
   "cell_type": "markdown",
   "id": "c115b4e9",
   "metadata": {},
   "source": [
    "# Random Forest \n",
    "\n",
    "Random Forest is also a powerful tool for classification problems. "
   ]
  },
  {
   "cell_type": "markdown",
   "id": "c87a3b25",
   "metadata": {},
   "source": [
    "### Train, Test, Split"
   ]
  },
  {
   "cell_type": "code",
   "execution_count": null,
   "id": "737b41e9",
   "metadata": {},
   "outputs": [],
   "source": [
    "X= data[['EFraction','Intervention', 'Months' , 'Age_Type', 'Gender' , 'Phases' ]]\n",
    "y= data['Status']\n",
    "X_train, X_test, y_train, y_test = train_test_split(X, y, test_size=0.33, random_state=1)"
   ]
  },
  {
   "cell_type": "markdown",
   "id": "f4f6f20a",
   "metadata": {},
   "source": [
    "### Building the Model"
   ]
  },
  {
   "cell_type": "code",
   "execution_count": null,
   "id": "ee01c0bf",
   "metadata": {},
   "outputs": [],
   "source": [
    "random_forest = RandomForestClassifier(n_estimators=10, random_state=0)\n",
    "random_forest.fit(X_train, y_train)"
   ]
  },
  {
   "cell_type": "code",
   "execution_count": null,
   "id": "238494cb",
   "metadata": {},
   "outputs": [],
   "source": [
    "# Use the forest's predict method on the test data\n",
    "y_pred_list = random_forest.predict(X_test) \n",
    "\n",
    "# Calculate the absolute errors\n",
    "errors = abs(y_pred_list - y_test)\n",
    "\n",
    "# Print out the mean absolute error (mae)\n",
    "print('Mean Absolute Error:', round(np.mean(errors), 2), 'degrees.')"
   ]
  },
  {
   "cell_type": "code",
   "execution_count": null,
   "id": "c37553fe",
   "metadata": {},
   "outputs": [],
   "source": [
    "# Pull out one tree from the forest\n",
    "tree = random_forest.estimators_[5]"
   ]
  },
  {
   "cell_type": "code",
   "execution_count": null,
   "id": "ec84b4e5",
   "metadata": {},
   "outputs": [],
   "source": [
    "export_graphviz(tree, out_file = 'tree.dot', feature_names = list(X.columns), rounded = True, precision = 1)\n",
    "# Use dot file to create a graph\n",
    "(graph, ) = pydot.graph_from_dot_file('tree.dot')"
   ]
  },
  {
   "cell_type": "code",
   "execution_count": null,
   "id": "89dd820f",
   "metadata": {},
   "outputs": [],
   "source": [
    "# Write graph to a png file\n",
    "graph.write_png('tree.png')"
   ]
  },
  {
   "cell_type": "markdown",
   "id": "8226d3e7",
   "metadata": {},
   "source": [
    "#### Smaller Random Forest"
   ]
  },
  {
   "cell_type": "code",
   "execution_count": null,
   "id": "4f9ba259",
   "metadata": {},
   "outputs": [],
   "source": [
    "rf_small = RandomForestClassifier(n_estimators=10, max_depth = 3)\n",
    "rf_small.fit(X_train, y_train)\n",
    "# Extract the small tree\n",
    "tree_small = rf_small.estimators_[5]\n",
    "# Save the tree as a png image\n",
    "export_graphviz(tree_small, out_file = 'small_tree.dot', feature_names = list(X.columns), rounded = True, precision = 1)\n",
    "(graph, ) = pydot.graph_from_dot_file('small_tree.dot')\n",
    "graph.write_png('small_tree.png')"
   ]
  },
  {
   "cell_type": "markdown",
   "id": "be7e5f27",
   "metadata": {},
   "source": [
    "### Model Evaluation "
   ]
  },
  {
   "cell_type": "code",
   "execution_count": null,
   "id": "08338fa1",
   "metadata": {},
   "outputs": [],
   "source": [
    "# Get and reshape confusion matrix data\n",
    "matrix = confusion_matrix(y_test, y_pred_list)\n",
    "matrix = matrix.astype('float') / matrix.sum(axis=1)[:, np.newaxis]\n",
    "\n",
    "# Build the plot\n",
    "plt.figure(figsize=(16,7))\n",
    "sns.set(font_scale=1.4)\n",
    "sns.heatmap(matrix, annot=True, annot_kws={'size':10},\n",
    "            cmap=plt.cm.Greens, linewidths=0.2)\n",
    "\n",
    "# Add labels to the plot\n",
    "class_names = ['Terminated', 'Completed']\n",
    "tick_marks = np.arange(len(class_names))\n",
    "tick_marks2 = tick_marks + 0.5\n",
    "plt.xticks(tick_marks, class_names, rotation=25)\n",
    "plt.yticks(tick_marks2, class_names, rotation=0)\n",
    "plt.xlabel('Predicted label')\n",
    "plt.ylabel('True label')\n",
    "plt.title('Confusion Matrix for Random Forest Model')\n",
    "plt.show()"
   ]
  },
  {
   "cell_type": "code",
   "execution_count": null,
   "id": "d19f3a8a",
   "metadata": {},
   "outputs": [],
   "source": [
    "print(classification_report(y_test, predictions))"
   ]
  },
  {
   "cell_type": "markdown",
   "id": "3a4fb033",
   "metadata": {},
   "source": [
    "This model has an accuracy score of 88% on the test data, which is slightly better than the Logistic Model. While the completed trials are very well predicted (we can see this from the precision, recall, and f1-score), it's not as good for the terminated trials with very low overall metrics. "
   ]
  },
  {
   "cell_type": "markdown",
   "id": "654768a5",
   "metadata": {},
   "source": [
    "### Feature Importance"
   ]
  },
  {
   "cell_type": "code",
   "execution_count": null,
   "id": "b6e7bc63",
   "metadata": {},
   "outputs": [],
   "source": [
    "# Get numerical feature importances\n",
    "importances = list(random_forest.feature_importances_)\n",
    "# List of tuples with variable and importance\n",
    "feature_importances = [(feature, round(importance, 2)) for feature, importance in zip(list(X.columns), importances)]\n",
    "# Sort the feature importances by most important first\n",
    "feature_importances = sorted(feature_importances, key = lambda x: x[1], reverse = True)\n",
    "# Print out the feature and importances \n",
    "[print('Variable: {:20} Importance: {}'.format(*pair)) for pair in feature_importances];"
   ]
  },
  {
   "cell_type": "code",
   "execution_count": null,
   "id": "a0518cd3",
   "metadata": {},
   "outputs": [],
   "source": [
    "# Set the style\n",
    "plt.style.use('fivethirtyeight')\n",
    "# list of x locations for plotting\n",
    "x_values = list(range(len(importances)))\n",
    "# Make a bar chart\n",
    "plt.bar(x_values, importances, orientation = 'vertical', color=\"g\")\n",
    "# Tick labels for x axis\n",
    "plt.xticks(x_values,list(X.columns) , rotation='vertical')\n",
    "# Axis labels and title\n",
    "plt.ylabel('Importance'); plt.xlabel('Variable'); plt.title('Variable Importances Random Forest');"
   ]
  },
  {
   "cell_type": "markdown",
   "id": "c891ee93",
   "metadata": {},
   "source": [
    "We can see that the enrollment fraction is still very important for predicting completion of a trial. The random forest also considers the months between start and end of trial as an important feature."
   ]
  },
  {
   "cell_type": "markdown",
   "id": "1b48fa71",
   "metadata": {},
   "source": [
    "# ANN\n",
    "\n",
    "In this section we build a classification neural network.  "
   ]
  },
  {
   "cell_type": "markdown",
   "id": "d76ab742",
   "metadata": {},
   "source": [
    "### Data Preparation"
   ]
  },
  {
   "cell_type": "code",
   "execution_count": null,
   "id": "a89a5b6b",
   "metadata": {},
   "outputs": [],
   "source": [
    "X= data[['EFraction','Intervention', 'Months' , 'Age_Type', 'Gender', 'Phases' ]].values\n",
    "y= data['Status'].values\n",
    "X_train, X_test, y_train, y_test = train_test_split(X, y, test_size=0.33, random_state=69)"
   ]
  },
  {
   "cell_type": "markdown",
   "id": "c116665a",
   "metadata": {},
   "source": [
    "### Feature Scaling"
   ]
  },
  {
   "cell_type": "code",
   "execution_count": null,
   "id": "7711e624",
   "metadata": {},
   "outputs": [],
   "source": [
    "scaler = StandardScaler()\n",
    "X_train = scaler.fit_transform(X_train)\n",
    "X_test = scaler.transform(X_test)"
   ]
  },
  {
   "cell_type": "markdown",
   "id": "254a1f5d",
   "metadata": {},
   "source": [
    "### Dataset and DataLoader"
   ]
  },
  {
   "cell_type": "code",
   "execution_count": null,
   "id": "81dd5a29",
   "metadata": {},
   "outputs": [],
   "source": [
    "## train data\n",
    "class TrainData(Dataset):\n",
    "    \n",
    "    def __init__(self, X_data, y_data):\n",
    "        self.X_data = X_data\n",
    "        self.y_data = y_data\n",
    "        \n",
    "    def __getitem__(self, index):\n",
    "        return self.X_data[index], self.y_data[index]\n",
    "        \n",
    "    def __len__ (self):\n",
    "        return len(self.X_data)\n",
    "\n",
    "\n",
    "train_data = TrainData(torch.FloatTensor(X_train), \n",
    "                       torch.FloatTensor(y_train))\n",
    "## test data    \n",
    "class TestData(Dataset):\n",
    "    \n",
    "    def __init__(self, X_data):\n",
    "        self.X_data = X_data\n",
    "        \n",
    "    def __getitem__(self, index):\n",
    "        return self.X_data[index]\n",
    "        \n",
    "    def __len__ (self):\n",
    "        return len(self.X_data)\n",
    "    \n",
    "\n",
    "test_data = TestData(torch.FloatTensor(X_test))"
   ]
  },
  {
   "cell_type": "code",
   "execution_count": null,
   "id": "bd6b79fa",
   "metadata": {},
   "outputs": [],
   "source": [
    "train_loader = DataLoader(dataset=train_data, batch_size=BATCH_SIZE, shuffle=True)\n",
    "test_loader = DataLoader(dataset=test_data, batch_size=1)"
   ]
  },
  {
   "cell_type": "markdown",
   "id": "2d03bfff",
   "metadata": {},
   "source": [
    "### Neural Network Architecture"
   ]
  },
  {
   "cell_type": "code",
   "execution_count": null,
   "id": "06ccffe4",
   "metadata": {},
   "outputs": [],
   "source": [
    "class BinaryClassification(nn.Module):\n",
    "    def __init__(self):\n",
    "        super(BinaryClassification, self).__init__()\n",
    "        # Number of input features is 12.\n",
    "        self.layer_1 = nn.Linear(6, 32) \n",
    "        self.layer_2 = nn.Linear(32, 64)\n",
    "        self.layer_out = nn.Linear(64, 1) \n",
    "        \n",
    "        self.relu = nn.ReLU()\n",
    "        self.dropout = nn.Dropout(p=0.1)\n",
    "        self.batchnorm1 = nn.BatchNorm1d(64)\n",
    "        self.batchnorm2 = nn.BatchNorm1d(64)\n",
    "        \n",
    "    def forward(self, inputs):\n",
    "        x = self.relu(self.layer_1(inputs))\n",
    "        x = self.batchnorm1(x)\n",
    "        x = self.relu(self.layer_2(x))\n",
    "        x = self.batchnorm2(x)\n",
    "        x = self.dropout(x)\n",
    "        x = self.layer_out(x)\n",
    "        \n",
    "        return x"
   ]
  },
  {
   "cell_type": "code",
   "execution_count": null,
   "id": "81536fda",
   "metadata": {},
   "outputs": [],
   "source": [
    "device = torch.device(\"cuda:0\" if torch.cuda.is_available() else \"cpu\")\n",
    "print(device)"
   ]
  },
  {
   "cell_type": "markdown",
   "id": "4d0df247",
   "metadata": {},
   "source": [
    "### Optimizer and Loss function"
   ]
  },
  {
   "cell_type": "code",
   "execution_count": null,
   "id": "8313ecad",
   "metadata": {},
   "outputs": [],
   "source": [
    "model = BinaryClassification()\n",
    "model.to(device)\n",
    "print(model)\n",
    "criterion = nn.BCEWithLogitsLoss()\n",
    "optimizer = optim.SGD(model.parameters(), lr=LEARNING_RATE)"
   ]
  },
  {
   "cell_type": "markdown",
   "id": "5bd80046",
   "metadata": {},
   "source": [
    "### Train Model "
   ]
  },
  {
   "cell_type": "code",
   "execution_count": null,
   "id": "745bb900",
   "metadata": {},
   "outputs": [],
   "source": [
    "def binary_acc(y_pred, y_test):\n",
    "    y_pred_tag = torch.round(torch.sigmoid(y_pred))\n",
    "\n",
    "    correct_results_sum = (y_pred_tag == y_test).sum().float()\n",
    "    acc = correct_results_sum/y_test.shape[0]\n",
    "    acc = torch.round(acc * 100)\n",
    "    \n",
    "    return acc"
   ]
  },
  {
   "cell_type": "markdown",
   "id": "33c5a444",
   "metadata": {},
   "source": [
    "#### Model Parameters"
   ]
  },
  {
   "cell_type": "code",
   "execution_count": null,
   "id": "b2e91c4f",
   "metadata": {},
   "outputs": [],
   "source": [
    "EPOCHS = 700\n",
    "BATCH_SIZE = 64\n",
    "LEARNING_RATE = 0.001"
   ]
  },
  {
   "cell_type": "code",
   "execution_count": null,
   "id": "5101baf1",
   "metadata": {},
   "outputs": [],
   "source": [
    "model.train()\n",
    "losses = []\n",
    "accur = []\n",
    "\n",
    "for e in range(1, EPOCHS+1):\n",
    "    epoch_loss = 0\n",
    "    epoch_acc = 0\n",
    "    for X_batch, y_batch in train_loader:\n",
    "        X_batch, y_batch = X_batch.to(device), y_batch.to(device)\n",
    "        optimizer.zero_grad()\n",
    "        \n",
    "        y_pred = model(X_batch)\n",
    "        \n",
    "        loss = criterion(y_pred, y_batch.unsqueeze(1))\n",
    "        acc = binary_acc(y_pred, y_batch.unsqueeze(1))\n",
    "        \n",
    "        loss.backward()\n",
    "        optimizer.step()\n",
    "        \n",
    "        epoch_loss += loss.item()\n",
    "        epoch_acc += acc.item()\n",
    "        \n",
    "    if e%50 == 0:\n",
    "        losses.append(loss)\n",
    "        accur.append(acc)\n",
    "        print(f'Epoch {e+0:03}: | Loss: {epoch_loss/len(train_loader):.5f} | Acc: {epoch_acc/len(train_loader):.3f}')\n",
    "\n",
    "\n",
    "        \n",
    "\n",
    "    "
   ]
  },
  {
   "cell_type": "code",
   "execution_count": null,
   "id": "18878bd8",
   "metadata": {},
   "outputs": [],
   "source": [
    "plt.plot(torch.stack(losses).cpu().detach().numpy())\n",
    "plt.title('Loss vs Epochs')\n",
    "plt.xlabel('Epochs')\n",
    "plt.ylabel('loss')"
   ]
  },
  {
   "cell_type": "code",
   "execution_count": null,
   "id": "fe47a68a",
   "metadata": {},
   "outputs": [],
   "source": [
    "plt.plot(accur)\n",
    "plt.title('Accuracy vs Epochs')\n",
    "plt.xlabel('Accuracy')\n",
    "plt.ylabel('loss')"
   ]
  },
  {
   "cell_type": "markdown",
   "id": "9df180f1",
   "metadata": {},
   "source": [
    "### Test the model"
   ]
  },
  {
   "cell_type": "code",
   "execution_count": null,
   "id": "2650b37b",
   "metadata": {},
   "outputs": [],
   "source": [
    "y_pred_list = []\n",
    "model.eval()\n",
    "with torch.no_grad():\n",
    "    for X_batch in test_loader:\n",
    "        X_batch = X_batch.to(device)\n",
    "        y_test_pred = model(X_batch)\n",
    "        y_test_pred = torch.sigmoid(y_test_pred)\n",
    "        y_pred_tag = torch.round(y_test_pred)\n",
    "        y_pred_list.append(y_pred_tag.cpu().numpy())\n",
    "\n",
    "y_pred_list = [a.squeeze().tolist() for a in y_pred_list]"
   ]
  },
  {
   "cell_type": "markdown",
   "id": "20b724eb",
   "metadata": {},
   "source": [
    "### Model Evaluation"
   ]
  },
  {
   "cell_type": "code",
   "execution_count": null,
   "id": "9c985240",
   "metadata": {},
   "outputs": [],
   "source": [
    "matrix= confusion_matrix(y_test, y_pred_list)"
   ]
  },
  {
   "cell_type": "code",
   "execution_count": null,
   "id": "d2339b18",
   "metadata": {},
   "outputs": [],
   "source": [
    "print(classification_report(y_test, y_pred_list))"
   ]
  },
  {
   "cell_type": "code",
   "execution_count": null,
   "id": "8e6d3ab4",
   "metadata": {},
   "outputs": [],
   "source": [
    "# Get and reshape confusion matrix data\n",
    "matrix = matrix.astype('float') / matrix.sum(axis=1)[:, np.newaxis]\n",
    "\n",
    "# Build the plot\n",
    "plt.figure(figsize=(16,7))\n",
    "sns.set(font_scale=1.4)\n",
    "sns.heatmap(matrix, annot=True, annot_kws={'size':10},\n",
    "            cmap=plt.cm.Blues, linewidths=0.2)\n",
    "\n",
    "# Add labels to the plot\n",
    "class_names = ['Terminated', 'Completed']\n",
    "tick_marks = np.arange(len(class_names))\n",
    "tick_marks2 = tick_marks + 0.5\n",
    "plt.xticks(tick_marks, class_names, rotation=25)\n",
    "plt.yticks(tick_marks2, class_names, rotation=0)\n",
    "plt.xlabel('Predicted label')\n",
    "plt.ylabel('True label')\n",
    "plt.title('Confusion Matrix for Artificial Neural Network Model')\n",
    "plt.show()"
   ]
  },
  {
   "cell_type": "markdown",
   "id": "8673b1a5",
   "metadata": {},
   "source": [
    "This model has an accuracy score of 90% on the test data, which is very close to the Random Forest model. We do see an increase for both terminated and completed trials, it has a 91% precision rate for trial completion and a 74% precision rate for termination. But this model is still not good enough if we look at the recall and f1-score for the terminated trials. "
   ]
  },
  {
   "cell_type": "code",
   "execution_count": null,
   "id": "59ba67bb",
   "metadata": {},
   "outputs": [],
   "source": []
  }
 ],
 "metadata": {
  "kernelspec": {
   "display_name": "Python 3 (ipykernel)",
   "language": "python",
   "name": "python3"
  },
  "language_info": {
   "codemirror_mode": {
    "name": "ipython",
    "version": 3
   },
   "file_extension": ".py",
   "mimetype": "text/x-python",
   "name": "python",
   "nbconvert_exporter": "python",
   "pygments_lexer": "ipython3",
   "version": "3.8.13"
  }
 },
 "nbformat": 4,
 "nbformat_minor": 5
}
